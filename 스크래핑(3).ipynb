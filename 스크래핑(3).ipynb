{
 "cells": [
  {
   "cell_type": "code",
   "execution_count": 97,
   "id": "14552460-d768-4313-9ec9-81330d13f32d",
   "metadata": {},
   "outputs": [],
   "source": [
    "import undetected_chromedriver as uc\n",
    "from selenium.webdriver.common.by import By\n",
    "from selenium.webdriver.common.keys import Keys\n",
    "import time"
   ]
  },
  {
   "cell_type": "code",
   "execution_count": 3,
   "id": "0cd57bc7-3867-45e1-b3ca-e66d18d0538e",
   "metadata": {},
   "outputs": [],
   "source": [
    "driver = uc.Chrome()\n",
    "driver.get(\"https://search.naver.com/search.naver?ssc=tab.news.all&where=news&sm=tab_jum&query=%EB%8C%80%EA%B5%AC%EC%9D%80%ED%96%89\")"
   ]
  },
  {
   "cell_type": "code",
   "execution_count": 13,
   "id": "7de978f1-60c9-4971-a606-aa2ef4b4caa3",
   "metadata": {},
   "outputs": [
    {
     "data": {
      "text/plain": [
       "'대구 은행서 4천만원 턴 30대 은행강도 1시간여 만 검거'"
      ]
     },
     "execution_count": 13,
     "metadata": {},
     "output_type": "execute_result"
    }
   ],
   "source": [
    "driver.find_element(By.CSS_SELECTOR, \"div.news_contents\").find_element(By.CSS_SELECTOR, \"a.news_tit\").text"
   ]
  },
  {
   "cell_type": "code",
   "execution_count": 23,
   "id": "9fc9caf4-7070-4e1a-98fa-0995bc18a9c2",
   "metadata": {},
   "outputs": [
    {
     "data": {
      "text/plain": [
       "'차단하고 추적에 나서 1시간여 만에 은행에서 500m 떨어진 상가 옥상에 숨어 있던 A씨를 긴급체포했습니다. 경찰 조사에서 A씨는 대출금 등 채무로 인해 범행을 저질렀다고 진술했습니다. 경찰은 A씨를 상대로 정확한 범행 경위 등을 조사한 뒤 구속영장을 신청할 방침입니다. #_경찰 #강도 #긴급체포'"
      ]
     },
     "execution_count": 23,
     "metadata": {},
     "output_type": "execute_result"
    }
   ],
   "source": [
    "driver.find_element(By.CSS_SELECTOR,\"div.news_dsc\").find_element(By.CSS_SELECTOR, \"a.api_txt_lines.dsc_txt_wrap\").text"
   ]
  },
  {
   "cell_type": "code",
   "execution_count": 28,
   "id": "536ec897-81cd-480e-9506-96b0d4731797",
   "metadata": {},
   "outputs": [
    {
     "data": {
      "text/plain": [
       "[['대구 은행서 4천만원 턴 30대 은행강도 1시간여 만 검거',\n",
       "  '차단하고 추적에 나서 1시간여 만에 은행에서 500m 떨어진 상가 옥상에 숨어 있던 A씨를 긴급체포했습니다. 경찰 조사에서 A씨는 대출금 등 채무로 인해 범행을 저질렀다고 진술했습니다. 경찰은 A씨를 상대로 정확한 범행 경위 등을 조사한 뒤 구속영장을 신청할 방침입니다. #_경찰 #강도 #긴급체포'],\n",
       " ['[속보] 김태오 전 대구은행 DGB금융그룹 회장 원심 파기 징역 2년에 집유 3년',\n",
       "  '대구고등법원 제2형사부 정승규 부장판사는 캄보디아에서 상업은행 인가를 받기 위해 350만 달러를 건넨 혐의 등으로 기소된 김태오 전 회장에게 무죄를 선고한 원심을 파기하고 징역 2년에 집행유예 3년을 선고했습니다. 함께 기소된 임직원 3명 역시 무죄를 선고한 원심을 파기하고 징역 1년 6개월에서...'],\n",
       " ['iM뱅크대구은행지부, \\'행동으로 입증한 지난해\\'···\"올해도 초심 잃지 않겠다\"',\n",
       "  '금융노조 iM뱅크대구은행지부가 11일 오전 대구 iM뱅크대구은행 본점에서 제57년차 정기전국대의원대회를 열었다. ⓒ 참여와혁신 박완순 기자 wspark@laborplus.co.kr 금융노조 iM뱅크대구은행지부(위원장 백지노)가 11일 오전 대구 iM뱅크 본점에서 제57년차 정기전국대의원대회를 열었다. 이날...'],\n",
       " ['[화촉]이찬희(전 대구신용보증재단 이사장, 대구은행 부행장) 딸 서현 양, 15일 결혼',\n",
       "  '▶장준호·한은숙 씨 아들 장영철 군, 이찬희(전 대구신용보증재단 이사장, 대구은행 부행장)·김미숙 씨 딸 서현 양. 2월 15일(토) 오후 4시 50분. 호텔수성(대구시 수성구 두산동) 수성스퀘어 3층 블레스홀.'],\n",
       " ['울산시, 중소기업에 시설자금 200억 지원',\n",
       "  '협약 금융기관 12개소(BNK울산경남은행, KB국민은행, IBK기업은행, NH농협은행, DGB대구은행, BNK부산은행, 신한은행, KEB하나은행, KDB산업은행, 우리은행, 한국수출입은행, 새마을금고중앙회)를 통해 대출받을 수 있다. 지원 대상은 울산에 사업장을 두었거나 둘 예정인 중소기업으로, 자금 사용처가...'],\n",
       " ['드림어스컴퍼니 ‘플로’, 하나카드 앱 ‘하나Pay’ 제휴 프로모션 실시',\n",
       "  '플로는 글로벌 음악 플랫폼 수준인 9000만곡 이상의 음원 라이브러리와 고도화된 AI 추천 기술을 기반으로 iM뱅크(옛 대구은행) 및 삼성금융네트웍스 통합 금융 앱 ‘모니모’ 등 금융권과 제휴 프로모션을 이어가고 있다. 또한, 연내 출시 예정인 LG전자의 ‘AI홈 허브’에 파트너사로 참여하고 차량용...'],\n",
       " ['대구은행 새 이름 iM뱅크, 가장 지역적인 시중은행으로[금융특집]',\n",
       "  \"대구경북 지역 대표기업으로 성장해 온 iM뱅크(옛 대구은행)가 올해 전국구 은행으로 재탄생했다. 1967년 10월 국내 첫 지방은행으로 출범한 지 57년 만인 지난 5월 시중은행으로 전환하면서다. 이는 지방은행에서 시중은행으로 전환한 국내 첫 사례다. iM뱅크는 시중은행으로서 비전을 '전국의 고객과 함께...\"],\n",
       " ['DGB금융 사외이사 대거 임기 만료...‘전국 진출’ 맞춰 다변화 나서나',\n",
       "  '현재 DGB금융 자회사로 있는 iM뱅크(아이엠뱅크·구 DGB대구은행)는 지난해 7월 금융당국 인가를 통해 시중은행으로 전환했다. DGB금융은 은행 뿐 아니라 증권·캐피탈·보험 등의 자회사 사명도 ‘iM’으로 바꾸고 전국구 진출에 나선 상황이다. DGB금융의 사업·영업 범위가 전국으로 확대되고 있지만 현재...'],\n",
       " [\"iM뱅크, 대구 영업점 잇단 '폐쇄'…시중은행 전환 명분 '퇴색'\",\n",
       "  '[사진=DGB금융그룹] iM뱅크(구 DGB대구은행)가 대구지역 영업점을 잇달아 폐쇄하면서 시중은행으로 전환한 명분이 퇴색하고 있다는 지적이 나온다. 특히 노인 고객에 대한 배려가 무시되면서 금융 소외층이 늘어날 것이란 우려가 나온다. 11일 금융업계에 따르면 iM뱅크는 지난 2일 대구지역 영업점 4곳을...'],\n",
       " ['\\'외국공무원 뇌물 혐의\\' 김태오 전 DGB 회장 \"대구은행이 피해자\"...檢, 2심도 징역 구형',\n",
       "  '또 함께 재판에 넘겨진 당시 대구은행 글로벌본부장 A 씨에 징역 3년 6개월에 벌금 82억원, 글로벌사업부장 B 씨에 징역 3년에 벌금 82억원, 캄보디아 현지법인인 DGB SB 부행장 C 씨에 징역 2년에 벌금 82억원을 각각 구형했다. 검찰은 \"이 사건 원심 판결은 사실 관계 확정 및 법리 판단에 있어 많은 오인이 있고...']]"
      ]
     },
     "execution_count": 28,
     "metadata": {},
     "output_type": "execute_result"
    }
   ],
   "source": [
    "box = []\n",
    "\n",
    "news = driver.find_element(By.CSS_SELECTOR, \"ul.list_news._infinite_list\").find_elements(By.CSS_SELECTOR, \"li.bx\")\n",
    "for i in news:\n",
    "    title = (i.find_element(By.CSS_SELECTOR, \"a.news_tit\").get_attribute('title'))\n",
    "    summary = (i.find_element(By.CSS_SELECTOR, \"div.dsc_wrap\").text.strip())\n",
    "    A = [title, summary]\n",
    "    if A not in box:\n",
    "        box.append(A)\n",
    "\n",
    "box"
   ]
  },
  {
   "cell_type": "code",
   "execution_count": 33,
   "id": "8c57289d-e044-44df-ae5e-89736a9d0d27",
   "metadata": {},
   "outputs": [],
   "source": [
    "driver.execute_script(\"window.scrollTo(0, document.body.scrollHeight);\")"
   ]
  },
  {
   "cell_type": "code",
   "execution_count": 35,
   "id": "95579e8a-8a2e-44a9-a8e4-3149bc7298bd",
   "metadata": {},
   "outputs": [],
   "source": [
    "body = driver.find_element(By.TAG_NAME, \"body\")\n",
    "for n in range(10):\n",
    "    body.send_keys(Keys.PAGE_DOWN)\n",
    "    time.sleep(2)"
   ]
  },
  {
   "cell_type": "code",
   "execution_count": 39,
   "id": "9938ea20-f963-464c-b945-9b26cf763aab",
   "metadata": {},
   "outputs": [
    {
     "name": "stdout",
     "output_type": "stream",
     "text": [
      "10개 뉴스기사 수집 완료\n",
      "10개 뉴스기사 수집 완료\n",
      "10개 뉴스기사 수집 완료\n",
      "10개 뉴스기사 수집 완료\n",
      "10개 뉴스기사 수집 완료\n",
      "10개 뉴스기사 수집 완료\n",
      "10개 뉴스기사 수집 완료\n",
      "10개 뉴스기사 수집 완료\n",
      "10개 뉴스기사 수집 완료\n",
      "10개 뉴스기사 수집 완료\n",
      "10개 뉴스기사 수집 완료\n",
      "10개 뉴스기사 수집 완료\n",
      "10개 뉴스기사 수집 완료\n",
      "10개 뉴스기사 수집 완료\n",
      "10개 뉴스기사 수집 완료\n",
      "10개 뉴스기사 수집 완료\n",
      "10개 뉴스기사 수집 완료\n",
      "10개 뉴스기사 수집 완료\n",
      "20개 뉴스기사 수집 완료\n",
      "30개 뉴스기사 수집 완료\n",
      "30개 뉴스기사 수집 완료\n",
      "30개 뉴스기사 수집 완료\n",
      "30개 뉴스기사 수집 완료\n",
      "30개 뉴스기사 수집 완료\n",
      "30개 뉴스기사 수집 완료\n",
      "30개 뉴스기사 수집 완료\n",
      "30개 뉴스기사 수집 완료\n",
      "30개 뉴스기사 수집 완료\n",
      "30개 뉴스기사 수집 완료\n",
      "30개 뉴스기사 수집 완료\n",
      "30개 뉴스기사 수집 완료\n",
      "30개 뉴스기사 수집 완료\n",
      "39개 뉴스기사 수집 완료\n",
      "49개 뉴스기사 수집 완료\n",
      "59개 뉴스기사 수집 완료\n",
      "69개 뉴스기사 수집 완료\n",
      "79개 뉴스기사 수집 완료\n",
      "89개 뉴스기사 수집 완료\n",
      "99개 뉴스기사 수집 완료\n"
     ]
    }
   ],
   "source": [
    "box = []\n",
    "while True:\n",
    "    news = driver.find_element(By.CSS_SELECTOR, \"ul.list_news._infinite_list\").find_elements(By.CSS_SELECTOR, \"li.bx\")\n",
    "    for i in news:\n",
    "        title = (i.find_element(By.CSS_SELECTOR, \"a.news_tit\").get_attribute('title'))\n",
    "        summary = (i.find_element(By.CSS_SELECTOR, \"div.dsc_wrap\").text.strip())\n",
    "        A = [title, summary]\n",
    "        if A not in box:\n",
    "            box.append(A)\n",
    "            if len(box) == 100:\n",
    "                break\n",
    "    if len(box) == 100:\n",
    "        break\n",
    "    print(f\"{len(box)}개 뉴스기사 수집 완료\")\n",
    "    driver.execute_script(\"window.scrollTo(0, document.body.scrollHeight);\")\n",
    "    time.sleep(3)"
   ]
  },
  {
   "cell_type": "code",
   "execution_count": 41,
   "id": "b049c302-bbdd-4561-8380-0b441aa0f818",
   "metadata": {},
   "outputs": [
    {
     "data": {
      "text/plain": [
       "100"
      ]
     },
     "execution_count": 41,
     "metadata": {},
     "output_type": "execute_result"
    }
   ],
   "source": [
    "len(box)"
   ]
  },
  {
   "cell_type": "code",
   "execution_count": 43,
   "id": "52b58289-804d-418d-bf6b-71ae8f295bdb",
   "metadata": {},
   "outputs": [
    {
     "data": {
      "text/html": [
       "<div>\n",
       "<style scoped>\n",
       "    .dataframe tbody tr th:only-of-type {\n",
       "        vertical-align: middle;\n",
       "    }\n",
       "\n",
       "    .dataframe tbody tr th {\n",
       "        vertical-align: top;\n",
       "    }\n",
       "\n",
       "    .dataframe thead th {\n",
       "        text-align: right;\n",
       "    }\n",
       "</style>\n",
       "<table border=\"1\" class=\"dataframe\">\n",
       "  <thead>\n",
       "    <tr style=\"text-align: right;\">\n",
       "      <th></th>\n",
       "      <th>제목</th>\n",
       "      <th>내용</th>\n",
       "    </tr>\n",
       "  </thead>\n",
       "  <tbody>\n",
       "    <tr>\n",
       "      <th>0</th>\n",
       "      <td>대구 은행서 4천만원 턴 30대 은행강도 1시간여 만 검거</td>\n",
       "      <td>차단하고 추적에 나서 1시간여 만에 은행에서 500m 떨어진 상가 옥상에 숨어 있던...</td>\n",
       "    </tr>\n",
       "    <tr>\n",
       "      <th>1</th>\n",
       "      <td>[속보] 김태오 전 대구은행 DGB금융그룹 회장 원심 파기 징역 2년에 집유 3년</td>\n",
       "      <td>대구고등법원 제2형사부 정승규 부장판사는 캄보디아에서 상업은행 인가를 받기 위해 3...</td>\n",
       "    </tr>\n",
       "    <tr>\n",
       "      <th>2</th>\n",
       "      <td>iM뱅크대구은행지부, '행동으로 입증한 지난해'···\"올해도 초심 잃지 않겠다\"</td>\n",
       "      <td>금융노조 iM뱅크대구은행지부가 11일 오전 대구 iM뱅크대구은행 본점에서 제57년차...</td>\n",
       "    </tr>\n",
       "    <tr>\n",
       "      <th>3</th>\n",
       "      <td>[화촉]이찬희(전 대구신용보증재단 이사장, 대구은행 부행장) 딸 서현 양, 15일 결혼</td>\n",
       "      <td>▶장준호·한은숙 씨 아들 장영철 군, 이찬희(전 대구신용보증재단 이사장, 대구은행 ...</td>\n",
       "    </tr>\n",
       "    <tr>\n",
       "      <th>4</th>\n",
       "      <td>울산시, 중소기업에 시설자금 200억 지원</td>\n",
       "      <td>협약 금융기관 12개소(BNK울산경남은행, KB국민은행, IBK기업은행, NH농협은...</td>\n",
       "    </tr>\n",
       "    <tr>\n",
       "      <th>...</th>\n",
       "      <td>...</td>\n",
       "      <td>...</td>\n",
       "    </tr>\n",
       "    <tr>\n",
       "      <th>95</th>\n",
       "      <td>대구은행, '초자동화·초개인화' 전략에 총력… '뉴하이브리드 뱅크' 업무효율성 극대화</td>\n",
       "      <td>◆‘RPA 기반 초자동화’ 강화… 대고객 채널·내부업무 효율화 지속 개선 'iM뱅크...</td>\n",
       "    </tr>\n",
       "    <tr>\n",
       "      <th>96</th>\n",
       "      <td>시중銀 '메기' 꿈꾸는 대구은행, 6배 체급차 극복할 수 있을까</td>\n",
       "      <td>창립 56년만에 시중은행으로 전환된 DGB대구은행이 시중은행을 견제할 메기 역할을 ...</td>\n",
       "    </tr>\n",
       "    <tr>\n",
       "      <th>97</th>\n",
       "      <td>대구은행의 시중은행 전환에 '정치적 배경' 의혹</td>\n",
       "      <td>금융당국이 대구은행을 시중은행으로 인가한 것을 두고 말이 많다. 어느 모로 보나 대...</td>\n",
       "    </tr>\n",
       "    <tr>\n",
       "      <th>98</th>\n",
       "      <td>시중은행 전환 대구은행… '뉴 하이브리드 뱅크' 구현 전략 본격 속도전</td>\n",
       "      <td>이상근 대구은행 ICT그룹 부행장 -디지털 전략 중시, '뉴 하이브리드뱅크' 구현할...</td>\n",
       "    </tr>\n",
       "    <tr>\n",
       "      <th>99</th>\n",
       "      <td>대구은행 57년 만에 시중은행으로…iM뱅크로 새 출발</td>\n",
       "      <td>대구은행이 iM뱅크로 사명을 바꾸고 57년 만에 시중은행으로 새 출발했습니다. 대구...</td>\n",
       "    </tr>\n",
       "  </tbody>\n",
       "</table>\n",
       "<p>100 rows × 2 columns</p>\n",
       "</div>"
      ],
      "text/plain": [
       "                                                  제목                                                 내용\n",
       "0                   대구 은행서 4천만원 턴 30대 은행강도 1시간여 만 검거  차단하고 추적에 나서 1시간여 만에 은행에서 500m 떨어진 상가 옥상에 숨어 있던...\n",
       "1      [속보] 김태오 전 대구은행 DGB금융그룹 회장 원심 파기 징역 2년에 집유 3년  대구고등법원 제2형사부 정승규 부장판사는 캄보디아에서 상업은행 인가를 받기 위해 3...\n",
       "2       iM뱅크대구은행지부, '행동으로 입증한 지난해'···\"올해도 초심 잃지 않겠다\"  금융노조 iM뱅크대구은행지부가 11일 오전 대구 iM뱅크대구은행 본점에서 제57년차...\n",
       "3   [화촉]이찬희(전 대구신용보증재단 이사장, 대구은행 부행장) 딸 서현 양, 15일 결혼  ▶장준호·한은숙 씨 아들 장영철 군, 이찬희(전 대구신용보증재단 이사장, 대구은행 ...\n",
       "4                            울산시, 중소기업에 시설자금 200억 지원  협약 금융기관 12개소(BNK울산경남은행, KB국민은행, IBK기업은행, NH농협은...\n",
       "..                                               ...                                                ...\n",
       "95   대구은행, '초자동화·초개인화' 전략에 총력… '뉴하이브리드 뱅크' 업무효율성 극대화  ◆‘RPA 기반 초자동화’ 강화… 대고객 채널·내부업무 효율화 지속 개선 'iM뱅크...\n",
       "96               시중銀 '메기' 꿈꾸는 대구은행, 6배 체급차 극복할 수 있을까  창립 56년만에 시중은행으로 전환된 DGB대구은행이 시중은행을 견제할 메기 역할을 ...\n",
       "97                        대구은행의 시중은행 전환에 '정치적 배경' 의혹  금융당국이 대구은행을 시중은행으로 인가한 것을 두고 말이 많다. 어느 모로 보나 대...\n",
       "98           시중은행 전환 대구은행… '뉴 하이브리드 뱅크' 구현 전략 본격 속도전  이상근 대구은행 ICT그룹 부행장 -디지털 전략 중시, '뉴 하이브리드뱅크' 구현할...\n",
       "99                     대구은행 57년 만에 시중은행으로…iM뱅크로 새 출발  대구은행이 iM뱅크로 사명을 바꾸고 57년 만에 시중은행으로 새 출발했습니다. 대구...\n",
       "\n",
       "[100 rows x 2 columns]"
      ]
     },
     "execution_count": 43,
     "metadata": {},
     "output_type": "execute_result"
    }
   ],
   "source": [
    "import pandas as pd\n",
    "df = pd.DataFrame(box, columns = ['제목','내용'])\n",
    "df.to_excel(\"네이버 뉴스기사.xlsx\", index = False)\n",
    "df"
   ]
  },
  {
   "cell_type": "code",
   "execution_count": 52,
   "id": "6497b582-b7ac-413a-ac2f-4e02372667ee",
   "metadata": {},
   "outputs": [
    {
     "data": {
      "text/plain": [
       "[['17,800원',\n",
       "  '거거수산 실패 없는 벌교 새꼬막 1kg (2kg부터 구매가능) 꼬막 제철 자숙 꼬막오프너',\n",
       "  '평점\\n4.77',\n",
       "  '리뷰 29,553'],\n",
       " ['33,900원', '대저 짭짤이 토마토 2.5kg 특품 품평회 금상수상', '평점\\n4.71', '리뷰 15,146'],\n",
       " ['34,900원', '품평회 대상수상 부산 대저 짭짤이 토마토 2.5kg 특품 대저토마토', '평점\\n4.72', '리뷰 12,503'],\n",
       " ['24,900원', '[맛없으면 100% 환불] 실패없는 고당도 천혜향', '평점\\n4.88', '리뷰 586'],\n",
       " ['32,900원', '프리미엄 고당도 레드향 3kg 특품 로얄과 선물세트', '평점\\n4.73', '리뷰 2,066'],\n",
       " ['33,400원', '대저 짭짤이 토마토 2.5kg 로얄과 부산 하늘농원 미니과', '평점\\n4.57', '리뷰 27,858'],\n",
       " ['74,000원', '동해 삼척 피문어 생물 대왕 문어 제수용 자숙 대문어 1.5kg 시세', '평점\\n4.9', '리뷰 3,540'],\n",
       " ['21,900원', '제주 레드향 직배송 프리미엄 가정용 선물세트', '평점\\n4.59', '리뷰 31,887'],\n",
       " ['39,900원', '부산 대저토마토 대저 짭짤이 토마토', '평점\\n4.77', '리뷰 13,628'],\n",
       " ['16,500원', '농장에서 갓 따온 신선한 설향 딸기 프리미엄 생딸기 750g', '평점\\n4.89', '리뷰 7,063']]"
      ]
     },
     "execution_count": 52,
     "metadata": {},
     "output_type": "execute_result"
    }
   ],
   "source": [
    "# 내풀이\n",
    "# 흔하지 않으면 틀 안잡아도됨\n",
    "# elements 잘못 잡았아서 싹다 에러뜬듯 ㅇㅇ\n",
    "\n",
    "box=[]\n",
    "driver = uc.Chrome()\n",
    "driver.get('https://shopping.naver.com/fresh/directfarm/home')\n",
    "\n",
    "store = driver.find_element(By.CSS_SELECTOR, 'ul._2apNeE5N3I').find_elements(By.CSS_SELECTOR,'li._1OKV3UfxuI')\n",
    "for i in store:\n",
    "    e = i.find_element(By.CSS_SELECTOR,'div._102IEO9gMf').find_element(By.CSS_SELECTOR,'div._2a0vHVAYuk')\n",
    "    price = e.find_element(By.CSS_SELECTOR,'div._1bOB7X9FRd').find_element(By.CSS_SELECTOR,'span._3MzrqSUlwR').text\n",
    "    title = e.find_element(By.CSS_SELECTOR,'strong._1lxNNH5gfD').text\n",
    "    star = e.find_element(By.CSS_SELECTOR,'ul._2sDon4V7bw').find_element(By.CSS_SELECTOR,'li._3G5BbVc9PL._1FOtzXHiH3').text\n",
    "    rev = e.find_element(By.CSS_SELECTOR,'ul._2sDon4V7bw').find_element(By.CSS_SELECTOR,'li._3G5BbVc9PL.a0tLQiDclf').text\n",
    "    A = [price, title, star, rev]\n",
    "    if A not in box:\n",
    "        box.append(A)\n",
    "\n",
    "box"
   ]
  },
  {
   "cell_type": "code",
   "execution_count": 56,
   "id": "e15267ce-2a39-472b-8488-70fb2ad877a1",
   "metadata": {},
   "outputs": [
    {
     "name": "stdout",
     "output_type": "stream",
     "text": [
      "10개 아이템 수집 완료\n",
      "10개 아이템 수집 완료\n",
      "10개 아이템 수집 완료\n",
      "10개 아이템 수집 완료\n",
      "10개 아이템 수집 완료\n",
      "10개 아이템 수집 완료\n",
      "10개 아이템 수집 완료\n",
      "10개 아이템 수집 완료\n",
      "10개 아이템 수집 완료\n",
      "10개 아이템 수집 완료\n",
      "10개 아이템 수집 완료\n",
      "10개 아이템 수집 완료\n",
      "10개 아이템 수집 완료\n",
      "10개 아이템 수집 완료\n",
      "10개 아이템 수집 완료\n",
      "10개 아이템 수집 완료\n",
      "10개 아이템 수집 완료\n",
      "10개 아이템 수집 완료\n",
      "10개 아이템 수집 완료\n",
      "10개 아이템 수집 완료\n",
      "10개 아이템 수집 완료\n",
      "10개 아이템 수집 완료\n",
      "10개 아이템 수집 완료\n",
      "10개 아이템 수집 완료\n",
      "10개 아이템 수집 완료\n",
      "10개 아이템 수집 완료\n",
      "10개 아이템 수집 완료\n",
      "10개 아이템 수집 완료\n",
      "10개 아이템 수집 완료\n",
      "10개 아이템 수집 완료\n",
      "10개 아이템 수집 완료\n",
      "10개 아이템 수집 완료\n",
      "10개 아이템 수집 완료\n",
      "10개 아이템 수집 완료\n",
      "10개 아이템 수집 완료\n",
      "10개 아이템 수집 완료\n",
      "10개 아이템 수집 완료\n",
      "10개 아이템 수집 완료\n",
      "10개 아이템 수집 완료\n",
      "10개 아이템 수집 완료\n",
      "10개 아이템 수집 완료\n",
      "10개 아이템 수집 완료\n",
      "10개 아이템 수집 완료\n",
      "10개 아이템 수집 완료\n",
      "10개 아이템 수집 완료\n",
      "10개 아이템 수집 완료\n",
      "10개 아이템 수집 완료\n",
      "10개 아이템 수집 완료\n",
      "10개 아이템 수집 완료\n",
      "40개 아이템 수집 완료\n",
      "50개 아이템 수집 완료\n",
      "70개 아이템 수집 완료\n",
      "70개 아이템 수집 완료\n",
      "80개 아이템 수집 완료\n",
      "100개 아이템 수집 완료\n"
     ]
    }
   ],
   "source": [
    "# 쌤풀이\n",
    "box = []\n",
    "while True:\n",
    "    for i in driver.find_elements(By.CSS_SELECTOR, \"li._1OKV3UfxuI\"):\n",
    "        title = (i.find_element(By.CSS_SELECTOR, \"strong._1lxNNH5gfD\").text.strip())\n",
    "        price = (i.find_element(By.CSS_SELECTOR, \"span._3MzrqSUlwR\").text)\n",
    "        star = (i.find_element(By.CSS_SELECTOR, \"span._29gNnX1yLx\").text.split(\"\\n\")[1])\n",
    "        review = (i.find_elements(By.CSS_SELECTOR, \"span._29gNnX1yLx\")[1].text)\n",
    "        A = [title, price, star, review]\n",
    "        if A not in box:\n",
    "            box.append(A)\n",
    "            if len(box) == 100:\n",
    "                break\n",
    "    print(f\"{len(box)}개 아이템 수집 완료\")\n",
    "    driver.execute_script(\"window.scrollTo(0, document.body.scrollHeight);\")\n",
    "    time.sleep(3)\n",
    "    if len(box) == 100:\n",
    "        break"
   ]
  },
  {
   "cell_type": "code",
   "execution_count": 63,
   "id": "5dadbe06-b3c2-4398-a7cd-0a3b4d2706dd",
   "metadata": {},
   "outputs": [],
   "source": [
    "driver = uc.Chrome()\n",
    "driver.get('https://shopping.naver.com/fresh/directfarm/home')"
   ]
  },
  {
   "cell_type": "code",
   "execution_count": 66,
   "id": "b4da6509-8429-4204-960a-25a856b6bce2",
   "metadata": {},
   "outputs": [],
   "source": [
    "import requests\n",
    "\n",
    "idx = 0\n",
    "for i in driver.find_elements(By.CSS_SELECTOR, \"li._1OKV3UfxuI\"):\n",
    "    image = (i.find_element(By.TAG_NAME, \"img\"))\n",
    "    src = (image.get_attribute(\"src\"))\n",
    "    if not src:\n",
    "        continue\n",
    "    for j in ['.jpg', '.png', '.jpeg', '.gif']:\n",
    "        if j in src:\n",
    "            a = src.split(\"?\")[0]\n",
    "            f = open(f\"{idx}{j}\", 'wb')\n",
    "            respone = requests.get(src)\n",
    "            f.write(respone.content)\n",
    "            f.close()\n",
    "            idx += 1"
   ]
  },
  {
   "cell_type": "code",
   "execution_count": 100,
   "id": "479c4bf2-c9fb-4c2c-919e-34da6fa5092d",
   "metadata": {},
   "outputs": [],
   "source": [
    "from bs4 import BeautifulSoup\n",
    "driver = uc.Chrome()\n",
    "driver.get('https://finance.naver.com/item/sise_day.naver?code=005930&page=1')"
   ]
  },
  {
   "cell_type": "code",
   "execution_count": 78,
   "id": "ccc35ce6-59e5-47ba-abc3-6592a9b32b69",
   "metadata": {},
   "outputs": [
    {
     "data": {
      "text/html": [
       "<div>\n",
       "<style scoped>\n",
       "    .dataframe tbody tr th:only-of-type {\n",
       "        vertical-align: middle;\n",
       "    }\n",
       "\n",
       "    .dataframe tbody tr th {\n",
       "        vertical-align: top;\n",
       "    }\n",
       "\n",
       "    .dataframe thead th {\n",
       "        text-align: right;\n",
       "    }\n",
       "</style>\n",
       "<table border=\"1\" class=\"dataframe\">\n",
       "  <thead>\n",
       "    <tr style=\"text-align: right;\">\n",
       "      <th></th>\n",
       "      <th>날짜</th>\n",
       "      <th>종가</th>\n",
       "      <th>전일비</th>\n",
       "      <th>시가</th>\n",
       "      <th>고가</th>\n",
       "      <th>저가</th>\n",
       "      <th>거래량</th>\n",
       "    </tr>\n",
       "  </thead>\n",
       "  <tbody>\n",
       "    <tr>\n",
       "      <th>1</th>\n",
       "      <td>2025.02.27</td>\n",
       "      <td>56500.0</td>\n",
       "      <td>하락  100</td>\n",
       "      <td>56500.0</td>\n",
       "      <td>57100.0</td>\n",
       "      <td>56400.0</td>\n",
       "      <td>7445587.0</td>\n",
       "    </tr>\n",
       "    <tr>\n",
       "      <th>2</th>\n",
       "      <td>2025.02.26</td>\n",
       "      <td>56600.0</td>\n",
       "      <td>하락  600</td>\n",
       "      <td>57000.0</td>\n",
       "      <td>57100.0</td>\n",
       "      <td>56100.0</td>\n",
       "      <td>18117091.0</td>\n",
       "    </tr>\n",
       "    <tr>\n",
       "      <th>3</th>\n",
       "      <td>2025.02.25</td>\n",
       "      <td>57200.0</td>\n",
       "      <td>하락  100</td>\n",
       "      <td>56600.0</td>\n",
       "      <td>57800.0</td>\n",
       "      <td>56500.0</td>\n",
       "      <td>14625181.0</td>\n",
       "    </tr>\n",
       "    <tr>\n",
       "      <th>4</th>\n",
       "      <td>2025.02.24</td>\n",
       "      <td>57300.0</td>\n",
       "      <td>하락  900</td>\n",
       "      <td>57300.0</td>\n",
       "      <td>57700.0</td>\n",
       "      <td>57200.0</td>\n",
       "      <td>14138471.0</td>\n",
       "    </tr>\n",
       "    <tr>\n",
       "      <th>5</th>\n",
       "      <td>2025.02.21</td>\n",
       "      <td>58200.0</td>\n",
       "      <td>하락  200</td>\n",
       "      <td>58400.0</td>\n",
       "      <td>58500.0</td>\n",
       "      <td>57100.0</td>\n",
       "      <td>22198428.0</td>\n",
       "    </tr>\n",
       "    <tr>\n",
       "      <th>9</th>\n",
       "      <td>2025.02.20</td>\n",
       "      <td>58400.0</td>\n",
       "      <td>하락  300</td>\n",
       "      <td>59100.0</td>\n",
       "      <td>59100.0</td>\n",
       "      <td>58100.0</td>\n",
       "      <td>21589059.0</td>\n",
       "    </tr>\n",
       "    <tr>\n",
       "      <th>10</th>\n",
       "      <td>2025.02.19</td>\n",
       "      <td>58700.0</td>\n",
       "      <td>상승  1,800</td>\n",
       "      <td>57400.0</td>\n",
       "      <td>58900.0</td>\n",
       "      <td>57300.0</td>\n",
       "      <td>25395151.0</td>\n",
       "    </tr>\n",
       "    <tr>\n",
       "      <th>11</th>\n",
       "      <td>2025.02.18</td>\n",
       "      <td>56900.0</td>\n",
       "      <td>상승  900</td>\n",
       "      <td>56200.0</td>\n",
       "      <td>57200.0</td>\n",
       "      <td>55900.0</td>\n",
       "      <td>22131007.0</td>\n",
       "    </tr>\n",
       "    <tr>\n",
       "      <th>12</th>\n",
       "      <td>2025.02.17</td>\n",
       "      <td>56000.0</td>\n",
       "      <td>보합0</td>\n",
       "      <td>56100.0</td>\n",
       "      <td>56500.0</td>\n",
       "      <td>55700.0</td>\n",
       "      <td>11916027.0</td>\n",
       "    </tr>\n",
       "    <tr>\n",
       "      <th>13</th>\n",
       "      <td>2025.02.14</td>\n",
       "      <td>56000.0</td>\n",
       "      <td>상승  200</td>\n",
       "      <td>56000.0</td>\n",
       "      <td>57300.0</td>\n",
       "      <td>56000.0</td>\n",
       "      <td>23979779.0</td>\n",
       "    </tr>\n",
       "  </tbody>\n",
       "</table>\n",
       "</div>"
      ],
      "text/plain": [
       "            날짜       종가        전일비       시가       고가       저가         거래량\n",
       "1   2025.02.27  56500.0    하락  100  56500.0  57100.0  56400.0   7445587.0\n",
       "2   2025.02.26  56600.0    하락  600  57000.0  57100.0  56100.0  18117091.0\n",
       "3   2025.02.25  57200.0    하락  100  56600.0  57800.0  56500.0  14625181.0\n",
       "4   2025.02.24  57300.0    하락  900  57300.0  57700.0  57200.0  14138471.0\n",
       "5   2025.02.21  58200.0    하락  200  58400.0  58500.0  57100.0  22198428.0\n",
       "9   2025.02.20  58400.0    하락  300  59100.0  59100.0  58100.0  21589059.0\n",
       "10  2025.02.19  58700.0  상승  1,800  57400.0  58900.0  57300.0  25395151.0\n",
       "11  2025.02.18  56900.0    상승  900  56200.0  57200.0  55900.0  22131007.0\n",
       "12  2025.02.17  56000.0        보합0  56100.0  56500.0  55700.0  11916027.0\n",
       "13  2025.02.14  56000.0    상승  200  56000.0  57300.0  56000.0  23979779.0"
      ]
     },
     "execution_count": 78,
     "metadata": {},
     "output_type": "execute_result"
    }
   ],
   "source": [
    "import warnings\n",
    "warnings.filterwarnings(\"ignore\")\n",
    "html = BeautifulSoup(driver.page_source)\n",
    "table = html.find(\"table\")\n",
    "table = pd.read_html(str(table))[0].dropna()\n",
    "table"
   ]
  },
  {
   "cell_type": "code",
   "execution_count": 91,
   "id": "d5ec3781-683f-4e95-9600-d79337b10895",
   "metadata": {},
   "outputs": [],
   "source": [
    "box = []\n",
    "for i in range(1,11):\n",
    "    driver.get(f'https://finance.naver.com/item/sise_day.naver?code=005930&page={i}')\n",
    "    time.sleep(2)\n",
    "    html = BeautifulSoup(driver.page_source)\n",
    "    table = html.find(\"table\")\n",
    "    table = pd.read_html(str(table))[0].dropna\n",
    "    box.append(table)"
   ]
  },
  {
   "cell_type": "code",
   "execution_count": 101,
   "id": "6f7be4e8-9e91-4c6b-8e58-f50d25ac0e4c",
   "metadata": {},
   "outputs": [],
   "source": [
    "box = []\n",
    "for i in range(1,720):\n",
    "    #페이지가 모두 뜰때까지 최대 10초 기다려라\n",
    "    driver.implicitly_wait(10) #html 한정 / 특정 조건에서 새롭게 나타난\n",
    "    driver.get(f'https://finance.naver.com/item/sise_day.naver?code=005930&page={i}')\n",
    "    html = BeautifulSoup(driver.page_source)\n",
    "    table = html.find(\"table\")\n",
    "    table = pd.read_html(str(table))[0].dropna\n",
    "    box.append(table)"
   ]
  },
  {
   "cell_type": "code",
   "execution_count": null,
   "id": "7f7124d5-cae1-4cf7-b93d-6cf65a13ecaf",
   "metadata": {
    "scrolled": true
   },
   "outputs": [],
   "source": [
    "import requests\n",
    "import pandas as pd\n",
    "samsung = pd.concat(box, ignore_index=True)\n",
    "samsung = samsung.iloc[1:]\n",
    "samsung.to_excel('삼성 주가 데이터.xlsx', index = False)\n",
    "samsung"
   ]
  },
  {
   "cell_type": "code",
   "execution_count": null,
   "id": "724d1e30-53cf-462f-a9b0-c756cc86919e",
   "metadata": {},
   "outputs": [],
   "source": [
    "from selenium.webdriver.support.ui import WebDriverWait\n",
    "from selenium.webdriver.support import expected_conditions as EC\n",
    "\n",
    "# 어떤 특정 요소가 뜰때까지 기다린다. (JSP)\n",
    "wait = WebDriverWait(driver, 10)\n",
    "A = wait.untill(EC.presence_of_element_located(By.CSS_SELECTOR, 'table')) #테이블이 뜰 때까지 기다린다.\n",
    "A.click"
   ]
  },
  {
   "cell_type": "code",
   "execution_count": null,
   "id": "0ddf9a56-096a-4b67-93ba-bee2fdda0462",
   "metadata": {},
   "outputs": [],
   "source": []
  }
 ],
 "metadata": {
  "kernelspec": {
   "display_name": "Python 3 (ipykernel)",
   "language": "python",
   "name": "python3"
  },
  "language_info": {
   "codemirror_mode": {
    "name": "ipython",
    "version": 3
   },
   "file_extension": ".py",
   "mimetype": "text/x-python",
   "name": "python",
   "nbconvert_exporter": "python",
   "pygments_lexer": "ipython3",
   "version": "3.12.7"
  }
 },
 "nbformat": 4,
 "nbformat_minor": 5
}
